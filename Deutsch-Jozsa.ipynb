{
 "cells": [
  {
   "cell_type": "code",
   "execution_count": 1,
   "metadata": {},
   "outputs": [],
   "source": [
    "import warnings\n",
    "warnings.simplefilter(action='ignore',)\n",
    "\n",
    "import numpy as np\n",
    "import matplotlib.pyplot as plt\n",
    "\n",
    "from qiskit import BasicAer, QuantumCircuit,execute\n",
    "backend = BasicAer.get_backend(\"qasm_simulator\")\n",
    "\n",
    "from qiskit.visualization import plot_histogram"
   ]
  },
  {
   "cell_type": "code",
   "execution_count": 2,
   "metadata": {},
   "outputs": [],
   "source": [
    "def func_1dim(mode):\n",
    "    qc = QuantumCircuit(2)\n",
    "    if mode == \"constant\": qc.x(1)\n",
    "    if mode == \"balanced\": qc.cnot(0,1) \n",
    "    \n",
    "    oracle_gate = qc.to_gate()\n",
    "    oracle_gate.name = \"Oracle\"\n",
    "    return oracle_gate"
   ]
  },
  {
   "cell_type": "code",
   "execution_count": 3,
   "metadata": {},
   "outputs": [
    {
     "data": {
      "image/png": "[encoded data removed]",
      "text/plain": [
       "<Figure size 146.652x144.48 with 1 Axes>"
      ]
     },
     "execution_count": 3,
     "metadata": {},
     "output_type": "execute_result"
    }
   ],
   "source": [
    "# constant\n",
    "qc = QuantumCircuit(2)\n",
    "qc.x(1)\n",
    "qc.draw(output=\"mpl\")"
   ]
  },
  {
   "cell_type": "code",
   "execution_count": 4,
   "metadata": {},
   "outputs": [
    {
     "data": {
      "image/png": "[encoded data removed]",
      "text/plain": [
       "<Figure size 146.652x144.48 with 1 Axes>"
      ]
     },
     "execution_count": 4,
     "metadata": {},
     "output_type": "execute_result"
    }
   ],
   "source": [
    "# balanced\n",
    "qc = QuantumCircuit(2)\n",
    "qc.cnot(0,1) \n",
    "qc.draw(output=\"mpl\")"
   ]
  },
  {
   "cell_type": "code",
   "execution_count": 5,
   "metadata": {
    "scrolled": true
   },
   "outputs": [
    {
     "data": {
      "image/png": "[encoded data removed]",
      "text/plain": [
       "<Figure size 628.252x204.68 with 1 Axes>"
      ]
     },
     "execution_count": 5,
     "metadata": {},
     "output_type": "execute_result"
    }
   ],
   "source": [
    "qc_constant = QuantumCircuit(2,1) \n",
    "oracle_constant = func_1dim(\"constant\")\n",
    "\n",
    "# prepare minus-qubit\n",
    "qc_constant.x(1)\n",
    "qc_constant.h(1)\n",
    "\n",
    "qc_constant.barrier()\n",
    "\n",
    "qc_constant.h(0)\n",
    "qc_constant.append(oracle_constant,range(2))\n",
    "qc_constant.h(0)\n",
    "\n",
    "qc_constant.barrier()\n",
    "qc_constant.measure(0,0)\n",
    "qc_constant.draw(output=\"mpl\")"
   ]
  },
  {
   "cell_type": "markdown",
   "metadata": {},
   "source": [
    "#### $q_0$ returns 0 if $f$ is constant"
   ]
  },
  {
   "cell_type": "code",
   "execution_count": 6,
   "metadata": {},
   "outputs": [
    {
     "data": {
      "text/plain": [
       "{'0': 1024}"
      ]
     },
     "execution_count": 6,
     "metadata": {},
     "output_type": "execute_result"
    }
   ],
   "source": [
    "result = execute(qc_constant, backend=backend,shots=1024).result()\n",
    "result.get_counts()\n",
    "# plot_histogram(result.get_counts())"
   ]
  },
  {
   "cell_type": "code",
   "execution_count": 7,
   "metadata": {
    "scrolled": true
   },
   "outputs": [
    {
     "data": {
      "image/png": "[encoded data removed]",
      "text/plain": [
       "<Figure size 628.252x204.68 with 1 Axes>"
      ]
     },
     "execution_count": 7,
     "metadata": {},
     "output_type": "execute_result"
    }
   ],
   "source": [
    "qc_balanced = QuantumCircuit(2,1) \n",
    "oracle_balanced = func_1dim(\"balanced\")\n",
    "\n",
    "# prepare minus-qubit\n",
    "qc_balanced.x(1)\n",
    "qc_balanced.h(1)\n",
    "\n",
    "qc_balanced.barrier()\n",
    "\n",
    "qc_balanced.h(0)\n",
    "qc_balanced.append(oracle_balanced,range(2))\n",
    "qc_balanced.h(0)\n",
    "\n",
    "qc_balanced.barrier()\n",
    "qc_balanced.measure(0,0)\n",
    "qc_balanced.draw(output=\"mpl\")"
   ]
  },
  {
   "cell_type": "markdown",
   "metadata": {},
   "source": [
    "#### $q_0$ returns 1 if $f$ is balanced"
   ]
  },
  {
   "cell_type": "code",
   "execution_count": 8,
   "metadata": {},
   "outputs": [
    {
     "data": {
      "text/plain": [
       "{'1': 1024}"
      ]
     },
     "execution_count": 8,
     "metadata": {},
     "output_type": "execute_result"
    }
   ],
   "source": [
    "result = execute(qc_balanced, backend=backend,shots=1024).result()\n",
    "result.get_counts()\n",
    "# plot_histogram(result.get_counts())"
   ]
  },
  {
   "cell_type": "code",
   "execution_count": null,
   "metadata": {},
   "outputs": [],
   "source": []
  },
  {
   "cell_type": "code",
   "execution_count": null,
   "metadata": {},
   "outputs": [],
   "source": []
  },
  {
   "cell_type": "markdown",
   "metadata": {},
   "source": [
    "#### Deutsch-Jozsa algorithm"
   ]
  },
  {
   "cell_type": "code",
   "execution_count": 9,
   "metadata": {},
   "outputs": [],
   "source": [
    "def func(mode,n):\n",
    "    qc = QuantumCircuit(n+1) # add one for minus-qubit\n",
    "    \n",
    "    if mode == \"constant\":\n",
    "        output = np.random.randint(2)\n",
    "        if output == 1:\n",
    "            qc.x(n) # bit flip the last one  \n",
    "            \n",
    "    if mode == \"balanced\":\n",
    "        for i in range(n):\n",
    "            qc.cx(i,n) # control X with i (0~n-1) and the last one\n",
    "    \n",
    "    oracle_gate = qc.to_gate()\n",
    "    oracle_gate.name = \"Oracle\"\n",
    "    return oracle_gate"
   ]
  },
  {
   "cell_type": "code",
   "execution_count": 10,
   "metadata": {},
   "outputs": [],
   "source": [
    "def Deutsch_Jozsa_algorithm(n, mode):    \n",
    "    qc = QuantumCircuit(n+1,n) # n+1條量子電路，n條傳統電路   \n",
    "    qc.h(range(n)) \n",
    "        \n",
    "    # prepare minus-qubit    \n",
    "    qc.x(n)\n",
    "    qc.h(n) \n",
    "            \n",
    "    oracle = func(mode, n)\n",
    "    qc.append(oracle, range(n+1))\n",
    "    \n",
    "    qc.h(range(n)) \n",
    "    for i in range(n): qc.measure(i,i)    \n",
    "    return qc"
   ]
  },
  {
   "cell_type": "code",
   "execution_count": 11,
   "metadata": {},
   "outputs": [
    {
     "data": {
      "image/png": "[encoded data removed]",
      "text/plain": [
       "<Figure size 568.197x325.08 with 1 Axes>"
      ]
     },
     "execution_count": 11,
     "metadata": {},
     "output_type": "execute_result"
    }
   ],
   "source": [
    "c_3 = Deutsch_Jozsa_algorithm(3, \"constant\")\n",
    "c_3.draw(output=\"mpl\")"
   ]
  },
  {
   "cell_type": "code",
   "execution_count": 12,
   "metadata": {},
   "outputs": [
    {
     "data": {
      "text/plain": [
       "{'000': 1024}"
      ]
     },
     "execution_count": 12,
     "metadata": {},
     "output_type": "execute_result"
    }
   ],
   "source": [
    "result = execute(c_3, backend=backend,shots=1024).result()\n",
    "result.get_counts()"
   ]
  },
  {
   "cell_type": "code",
   "execution_count": 13,
   "metadata": {},
   "outputs": [
    {
     "data": {
      "image/png": "[encoded data removed]",
      "text/plain": [
       "<Figure size 628.397x385.28 with 1 Axes>"
      ]
     },
     "execution_count": 13,
     "metadata": {},
     "output_type": "execute_result"
    }
   ],
   "source": [
    "b_4 = Deutsch_Jozsa_algorithm(4, \"balanced\")\n",
    "b_4.draw(output=\"mpl\")"
   ]
  },
  {
   "cell_type": "code",
   "execution_count": 14,
   "metadata": {},
   "outputs": [
    {
     "data": {
      "text/plain": [
       "{'1111': 1024}"
      ]
     },
     "execution_count": 14,
     "metadata": {},
     "output_type": "execute_result"
    }
   ],
   "source": [
    "result = execute(b_4, backend=backend,shots=1024).result()\n",
    "result.get_counts()"
   ]
  }
 ],
 "metadata": {
  "hide_input": false,
  "kernelspec": {
   "display_name": "Python 3",
   "language": "python",
   "name": "python3"
  },
  "language_info": {
   "codemirror_mode": {
    "name": "ipython",
    "version": 3
   },
   "file_extension": ".py",
   "mimetype": "text/x-python",
   "name": "python",
   "nbconvert_exporter": "python",
   "pygments_lexer": "ipython3",
   "version": "3.6.7"
  }
 },
 "nbformat": 4,
 "nbformat_minor": 2
}
