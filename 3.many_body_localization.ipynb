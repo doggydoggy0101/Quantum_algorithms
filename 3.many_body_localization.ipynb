{
 "cells": [
  {
   "cell_type": "code",
   "execution_count": 1,
   "id": "7152f2bf-5b38-470a-a523-6398a51c2c16",
   "metadata": {},
   "outputs": [],
   "source": [
    "# Suppress warnings\n",
    "import warnings\n",
    "warnings.filterwarnings('ignore')\n",
    "\n",
    "import numpy as np\n",
    "import matplotlib.pyplot as plt\n",
    "\n",
    "# Importing standard Qiskit libraries\n",
    "from qiskit import QuantumCircuit, QuantumRegister, transpile, Aer, IBMQ, execute\n",
    "from qiskit.tools.jupyter import *\n",
    "from qiskit.visualization import *\n",
    "from qiskit.providers.aer import QasmSimulator\n",
    "from tqdm.notebook import tqdm\n",
    "\n",
    "from qiskit.providers.aer import QasmSimulator\n",
    "from qiskit.tools.monitor import job_monitor\n",
    "from qiskit.circuit import Parameter\n",
    "import qiskit.quantum_info as qi\n",
    "\n",
    "from qc_grader.challenges.spring_2022.helpers import generate_disordered_tb_instruction"
   ]
  },
  {
   "cell_type": "markdown",
   "id": "fe9e4c6f",
   "metadata": {},
   "source": [
    "## Many-body quantum dynamics\n",
    "\n",
    "In this exercise we examine lattice disorder and particle-particle interaction. A closed quantum many-body system initialized in a non-equilibrium state will reach the equilibrium state, refered to as thermalization, under its own dynamics. This behavior is as a result of the laws of statistical mechanics, and analogous to a hot cup of coffee cooling down to the surrounding temperature if left unattended. \n",
    "\n",
    "However, the presence of lattice disorder prevents the system from evolving into an ergodic thermalized state. This interplay between disorder and particle interaction results in many-body localization (MBL), and it allows the system to retain a memory of its initial condition at all times. For more information about MBL refer to [1]\n",
    "\n",
    "Let's again consider the tight-binding Hamiltonian with arbitrary site energies:\n",
    "\n",
    "$$H_{\\rm tb}/\\hbar = \\sum^{3}_{i=0} (X_i X_{i+1} + Y_i Y_{i+1}) + \\sum_i \\epsilon_i Z_i $$\n",
    "\n",
    "As we explored in exercise 2, we can emulate disorder in this system by setting $\\epsilon_i=W \\rm{cos}(2\\pi\\beta i)$, where $W$ is the disorder strength, and $\\beta$ determines the quasicrystal periodicity. We can add multiple particles to the system by initalizing multiple qubits to the $|1\\rangle$ state prior to the unitary time evolution. Under $H_{\\rm tb}$, each site can only be occupied by a single particle, resulting in particle repulsion interaction.\n",
    "\n",
    "[1] https://arxiv.org/abs/1804.11065"
   ]
  },
  {
   "cell_type": "markdown",
   "id": "99afa252",
   "metadata": {},
   "source": [
    "One of the signatures of the breakdown of thermalization is the emergence of **imbalance**. In a thermalized system, we expect each site of the lattice to be occupied by the same average number of particles after reaching steady state. However, adding disorder to the interacting system will result in deviations from the thermal value observed on each site. The system imbalance can be quantified using the following expression:\n",
    "\n",
    "$$\\mathcal{I}= \\langle (N_e-N_o)/(N_e+N_o) \\rangle$$\n",
    "\n",
    "where $N_e$ and $N_o$ are the even and odd site populations of the system. For a thermalized system this $\\mathcal{I}=0$, and system disorder will cause deviations from this value."
   ]
  },
  {
   "cell_type": "markdown",
   "id": "324e267a",
   "metadata": {},
   "source": [
    "Let's consider a few examples:\n",
    "\n",
    "1. $ |\\psi\\rangle = |0111\\rangle $: \n",
    "\\begin{align*}\n",
    "\\langle \\psi | N_e | \\psi \\rangle &= 2 \\\\\n",
    "\\langle \\psi | N_o | \\psi \\rangle &= 1 \\\\\n",
    "\\mathcal{I} = \\langle \\psi |  (N_e-N_o)/(N_e+N_o) | \\psi \\rangle &= 1/3\n",
    "\\end{align*}\n",
    "\n",
    "2. $ |\\psi\\rangle = \\sqrt{2/3} |0111\\rangle + \\sqrt{1/3} |1011\\rangle $: \n",
    "$$ \\langle \\psi |  \\mathcal{I} | \\psi \\rangle = 2/3 * \\langle 0111 |  \\mathcal{I} |0111\\rangle + 1/3 * \\langle 1011 |  \\mathcal{I} |1011\\rangle $$\n",
    "\\begin{align*}\n",
    "\\langle 0111 |  \\mathcal{I} |0111\\rangle &= 1/3 \\\\\n",
    "\\langle 1011 |  \\mathcal{I} |1011\\rangle &= -1/3 \\\\\n",
    " \\langle \\psi |  \\mathcal{I} | \\psi \\rangle &= 1/9\n",
    "\\end{align*}"
   ]
  },
  {
   "cell_type": "markdown",
   "id": "bfe79af8",
   "metadata": {},
   "source": [
    "<div class=\"alert alert-block alert-danger\">\n",
    "    \n",
    "<b>Challenge question 3a</b> \n",
    "\n",
    "Write a function that outputs the imbalance of a quantum state\n",
    "    \n",
    "</div>"
   ]
  },
  {
   "cell_type": "code",
   "execution_count": 2,
   "id": "b3e6c27b-63bc-4eef-b6a4-71e521bd8e1c",
   "metadata": {},
   "outputs": [],
   "source": [
    "##### Example\n",
    "e1 = qi.Statevector.from_label('0111') \n",
    "e2 = np.sqrt(2/3)*qi.Statevector.from_label('0111') + np.sqrt(1/3)*qi.Statevector.from_label('1011')\n",
    "e3 = np.sqrt(1/2)*qi.Statevector.from_label('0000') + np.sqrt(1/2)*qi.Statevector.from_label('0111')"
   ]
  },
  {
   "cell_type": "code",
   "execution_count": 3,
   "id": "e5f5aae1-cd95-4a80-b166-ef2a78766fe2",
   "metadata": {},
   "outputs": [
    {
     "name": "stdout",
     "output_type": "stream",
     "text": [
      "0000\n"
     ]
    },
    {
     "data": {
      "text/plain": [
       "-0.16666666666666669"
      ]
     },
     "execution_count": 3,
     "metadata": {},
     "output_type": "execute_result"
    }
   ],
   "source": [
    "##### Test\n",
    "ei = e3\n",
    "meas = ei.measure()\n",
    "print(meas[0])\n",
    "prob = ei.probabilities()\n",
    "qb_len = len(prob)\n",
    "\n",
    "Ll = 0\n",
    "for i in range(qb_len):\n",
    "    if prob[i] != 0.0: \n",
    "        Ll_coef = prob[i]\n",
    "        bi = \"{0:b}\".format(i)\n",
    "        l_bi = len(bi)\n",
    "        # print(bi)\n",
    "        # print(\"..\",l_bi)\n",
    "        No,Ne = 0,0\n",
    "        for i in range(l_bi):\n",
    "            if (l_bi-i-1) %2 == 0 and bi[l_bi-i-1] == '1': No+=1\n",
    "            elif (l_bi-i-1) %2 == 1 and bi[l_bi-i-1] == '1': Ne+=1\n",
    "        if l_bi %2 == 0: No,Ne = Ne,No\n",
    "        \n",
    "        if Ne + No == 0: Ll_basis = 0\n",
    "        else: Ll_basis = (Ne-No)/(Ne+No)\n",
    "        Ll += Ll_coef*Ll_basis\n",
    "Ll"
   ]
  },
  {
   "cell_type": "code",
   "execution_count": 4,
   "id": "3f428318",
   "metadata": {},
   "outputs": [],
   "source": [
    "def get_imbalance(state):\n",
    "    \n",
    "    ###EDIT CODE BELOW\n",
    "    ### HINT: MAKE SURE TO SKIP CALCULATING IMBALANCE OF THE |00...0> STATE\n",
    "    \n",
    "    imbalance_val = 0\n",
    "    \n",
    "    prob = state.probabilities()\n",
    "    qb_len = len(prob) # 1024\n",
    "\n",
    "    for i in range(qb_len):\n",
    "        if prob[i] != 0.0: \n",
    "            \n",
    "            bi = \"{0:b}\".format(i)\n",
    "            l_bi,Ll_coef,No,Ne = len(bi),prob[i],0,0\n",
    "            \n",
    "            for i in range(l_bi):\n",
    "                if (l_bi-i-1) %2 == 0 and bi[l_bi-i-1] == '1': No+=1\n",
    "                elif (l_bi-i-1) %2 == 1 and bi[l_bi-i-1] == '1': Ne+=1\n",
    "            if l_bi %2 == 0: No,Ne = Ne,No\n",
    " \n",
    "            Ll_basis = 0 if Ne+No == 0 else (Ne-No)/(Ne+No)\n",
    "            imbalance_val += Ll_coef*Ll_basis\n",
    "    \n",
    "    ###DO NOT EDIT BELOW\n",
    "    \n",
    "    return imbalance_val"
   ]
  },
  {
   "cell_type": "code",
   "execution_count": 5,
   "id": "ea99c73e-014f-42c5-b9ad-0a09cd87ec85",
   "metadata": {},
   "outputs": [
    {
     "name": "stdout",
     "output_type": "stream",
     "text": [
      "-0.3333333333333333\n",
      "-0.1111111111111111\n",
      "-0.16666666666666669\n"
     ]
    }
   ],
   "source": [
    "print(get_imbalance(e1))\n",
    "print(get_imbalance(e2))\n",
    "print(get_imbalance(e3))"
   ]
  },
  {
   "cell_type": "code",
   "execution_count": 6,
   "id": "5f6fdd44",
   "metadata": {},
   "outputs": [
    {
     "name": "stdout",
     "output_type": "stream",
     "text": [
      "Submitting your answer. Please wait...\n",
      "Congratulations 🎉! Your answer is correct and has been submitted.\n"
     ]
    }
   ],
   "source": [
    "## Grade and submit your solution\n",
    "from qc_grader.challenges.spring_2022 import grade_ex3a\n",
    "\n",
    "grade_ex3a(get_imbalance) "
   ]
  },
  {
   "cell_type": "markdown",
   "id": "276339f9",
   "metadata": {},
   "source": [
    "Next, we consider how quantum information and entanglement entropy grows in the system. In an entangled system, ignoring information about the remaining system puts the subsystem into a mixed state of different number states. We can probe the **von Neumann entropy** to gain insight into the degree of entanglement between subsystem $A$ and the remaining of the system:\n",
    "\n",
    "$$\\mathcal{S}_{\\rm vn}(\\rho_A)= -\\rm{tr}(\\rho_A \\rm{ln} \\rho_A)$$\n",
    "\n",
    "Here, $\\rho_A= \\rm{tr}_{\\bar{A}} \\rho$ is the reduced density matrix describing subsytem $A$ when we trace out the rest of the system. If a subsytem $A$ is fully entangled with the rest of the system, $\\mathcal{S}_{\\rm vn}(\\rho_A) = \\rm{ln}2$, whereas if the subsytem is completely separable (in a product state) with respect to its environment $\\mathcal{S}_{\\rm vn}(\\rho_A)=0$. Consider the example below:"
   ]
  },
  {
   "cell_type": "code",
   "execution_count": 7,
   "id": "b0e069e1",
   "metadata": {},
   "outputs": [
    {
     "name": "stdout",
     "output_type": "stream",
     "text": [
      "QB0 vn entropy:  0.6931471805599454\n",
      "QB1 vn entropy:  0.6931471805599454\n"
     ]
    }
   ],
   "source": [
    "bell_state = qi.Statevector(np.array([0,1,1,0])/np.sqrt(2))\n",
    "\n",
    "rho_0 = qi.partial_trace(bell_state,[1]) # We trace out qubit 1\n",
    "rho_1 = qi.partial_trace(bell_state,[0]) # We trace out qubit 0\n",
    "\n",
    "print('QB0 vn entropy: ', qi.entropy(rho_0, base=np.exp(1)))\n",
    "print('QB1 vn entropy: ', qi.entropy(rho_1, base=np.exp(1)))"
   ]
  },
  {
   "cell_type": "markdown",
   "id": "a80d1c7f",
   "metadata": {},
   "source": [
    "## Probing the many-body quantum dynamics in a 12 qubit chain\n",
    "\n",
    "For this part of the exercise, we use the same lattice disorder pattern as we explored in exercise 2."
   ]
  },
  {
   "cell_type": "code",
   "execution_count": 8,
   "id": "6d790e43-7e59-40b3-9a3a-806e7df15b70",
   "metadata": {},
   "outputs": [],
   "source": [
    "t = Parameter('t')"
   ]
  },
  {
   "cell_type": "code",
   "execution_count": 9,
   "id": "0ab29437",
   "metadata": {},
   "outputs": [],
   "source": [
    "num_qubits=12\n",
    "deltas=[Parameter('delta_{:d}'.format(idx)) for idx in range(num_qubits)]\n",
    "disorder_trot_step=generate_disordered_tb_instruction(t, deltas, num_qubits)"
   ]
  },
  {
   "cell_type": "code",
   "execution_count": 10,
   "id": "e1ae8b4e",
   "metadata": {},
   "outputs": [],
   "source": [
    "# Here we define the disorder pattern\n",
    "\n",
    "beta=(np.sqrt(5)-1)/2 # DO NOT EDIT\n",
    "AA_pattern=np.cos(2*np.pi*beta*np.arange(num_qubits)) # DO NOT EDIT"
   ]
  },
  {
   "cell_type": "markdown",
   "id": "73f306b7",
   "metadata": {},
   "source": [
    "<div class=\"alert alert-block alert-danger\">\n",
    "    \n",
    "<b>Challenge question 3b</b> \n",
    "\n",
    "Initialize the system by setting qubits 0, 4, and 8 to $|1\\rangle$.\n",
    "    \n",
    "</div>"
   ]
  },
  {
   "cell_type": "code",
   "execution_count": 11,
   "id": "1941aa83",
   "metadata": {},
   "outputs": [],
   "source": [
    "delta_t=0.1\n",
    "time_steps=np.arange(0,21,2)\n",
    "\n",
    "circuits={}\n",
    "Ws=[1,4,10]\n",
    "\n",
    "for W in Ws:\n",
    "    disorders=W*AA_pattern\n",
    "    \n",
    "    circuits[W]=[]\n",
    "\n",
    "    for n_steps in time_steps:\n",
    "\n",
    "        qr = QuantumRegister(num_qubits)\n",
    "        qc = QuantumCircuit(qr)\n",
    "\n",
    "        ###EDIT CODE BELOW\n",
    "        \n",
    "        qc.x([0,4,8])\n",
    "        \n",
    "        ###DO NOT EDIT BELOW     \n",
    "\n",
    "        for _ in range(n_steps):\n",
    "            qc.append(disorder_trot_step, [i for i in range(num_qubits)])\n",
    "        \n",
    "        if n_steps!=0:\n",
    "            qc = qc.bind_parameters({t: delta_t})\n",
    "            qc = qc.bind_parameters({deltas[idx]: disorders[idx] for idx in range(num_qubits)})\n",
    "\n",
    "        circuits[W].append(qc)"
   ]
  },
  {
   "cell_type": "code",
   "execution_count": 12,
   "id": "13627319-be27-4dc3-a288-5f974abfeb8f",
   "metadata": {},
   "outputs": [
    {
     "data": {
      "image/png": "[encoded data removed]",
      "text/plain": [
       "<Figure size 1630.83x1529.08 with 1 Axes>"
      ]
     },
     "execution_count": 12,
     "metadata": {},
     "output_type": "execute_result"
    }
   ],
   "source": [
    "circuits[4][1].draw()"
   ]
  },
  {
   "cell_type": "markdown",
   "id": "68d6bb10",
   "metadata": {},
   "source": [
    "<div class=\"alert alert-block alert-danger\">\n",
    "    \n",
    "<b>Challenge question 3c</b> \n",
    "\n",
    "Extract the von Neumann entropy of qubit 0 at different evolution time steps for different disorder strengths.\n",
    "    \n",
    "</div>"
   ]
  },
  {
   "cell_type": "markdown",
   "id": "7daa18a2",
   "metadata": {},
   "source": [
    "<div class=\"alert alert-block alert-danger\">\n",
    "    \n",
    "<b>Challenge question 3d</b> \n",
    "\n",
    "Extract the imbalance of the lattice at different evolution time steps for different disorder strengths.\n",
    "    \n",
    "</div>"
   ]
  },
  {
   "cell_type": "code",
   "execution_count": 13,
   "id": "ba1ac736",
   "metadata": {
    "scrolled": true
   },
   "outputs": [
    {
     "data": {
      "application/vnd.jupyter.widget-view+json": {
       "model_id": "ab00b2146ab44b9c9007c0a8f97079cc",
       "version_major": 2,
       "version_minor": 0
      },
      "text/plain": [
       "  0%|          | 0/3 [00:00<?, ?it/s]"
      ]
     },
     "metadata": {},
     "output_type": "display_data"
    }
   ],
   "source": [
    "from qiskit import transpile\n",
    "\n",
    "# Use Aer's statevector simulator\n",
    "from qiskit import Aer\n",
    "\n",
    "# Run the quantum circuit on a statevector simulator backend\n",
    "backend_sim = Aer.get_backend('statevector_simulator')\n",
    "\n",
    "probability_densities={}\n",
    "state_vector_imbalances={}\n",
    "vn_entropies={}\n",
    "\n",
    "for W in tqdm(Ws):\n",
    "    probability_densities[W]=[]\n",
    "    state_vector_imbalances[W]=[]\n",
    "    vn_entropies[W]=[]\n",
    "    \n",
    "    for circ in circuits[W]:\n",
    "\n",
    "        transpiled_circ=transpile(circ, backend_sim, optimization_level=3)\n",
    "\n",
    "        job_sim = backend_sim.run(transpiled_circ)\n",
    "\n",
    "        # Grab the results from the job.\n",
    "        result_sim = job_sim.result()\n",
    "        outputstate = result_sim.get_statevector(transpiled_circ, decimals=6)\n",
    "        ps=[]\n",
    "        for idx in range(num_qubits):\n",
    "            ps.append(np.abs(qi.partial_trace(outputstate,[i for i in range(num_qubits) if i!=idx]))[1,1]**2)\n",
    "        \n",
    "        entropy=0\n",
    "        ### EDIT CODE BELOW (extract the density matrix of qubit 0 by tracing out all other qubits)\n",
    "        \n",
    "        rho = qi.partial_trace(outputstate,[1,2,3,4,5,6,7,8,9,10,11]) \n",
    "        entropy = qi.entropy(rho, base=np.exp(1))\n",
    "        \n",
    "        ###DO NOT EDIT BELOW \n",
    "        \n",
    "        imbalance=0\n",
    "        ### EDIT CODE BELOW \n",
    "        \n",
    "        imbalance = get_imbalance(outputstate)\n",
    "        \n",
    "        ###DO NOT EDIT BELOW\n",
    "        \n",
    "        \n",
    "        vn_entropies[W].append(entropy)\n",
    "        probability_densities[W].append(ps)\n",
    "        state_vector_imbalances[W].append(imbalance)"
   ]
  },
  {
   "cell_type": "code",
   "execution_count": 14,
   "id": "3b728147",
   "metadata": {
    "scrolled": true
   },
   "outputs": [
    {
     "data": {
      "image/png": "[encoded data removed]",
      "text/plain": [
       "<Figure size 1080x360 with 3 Axes>"
      ]
     },
     "metadata": {},
     "output_type": "display_data"
    }
   ],
   "source": [
    "fig, axs = plt.subplots(1,3,figsize=(15,5), facecolor='white', sharey=True)\n",
    "\n",
    "for i,W in enumerate(Ws):\n",
    "    ax=axs[i]\n",
    "    ax.pcolormesh(np.arange(0,num_qubits,1), time_steps*delta_t ,probability_densities[W])\n",
    "    ax.set_xlabel('Qubit index')\n",
    "    ax.set_xticks(np.arange(1,num_qubits+1,1))\n",
    "\n",
    "axs[0].set_ylabel('Time (1/J)')\n",
    "\n",
    "plt.show()"
   ]
  },
  {
   "cell_type": "code",
   "execution_count": 15,
   "id": "cff7aa4e",
   "metadata": {},
   "outputs": [
    {
     "data": {
      "image/png": "[encoded data removed]",
      "text/plain": [
       "<Figure size 432x288 with 1 Axes>"
      ]
     },
     "metadata": {
      "needs_background": "light"
     },
     "output_type": "display_data"
    }
   ],
   "source": [
    "for W in Ws:\n",
    "    plt.plot(time_steps*delta_t,vn_entropies[W], '--o', label='W={:d}'.format(W))\n",
    "\n",
    "plt.xlabel(r'Time (1/J)')\n",
    "plt.ylabel(r'$\\mathcal{S}_{\\rm vn}(\\rho_0)$')\n",
    "plt.legend()\n",
    "plt.show()"
   ]
  },
  {
   "cell_type": "code",
   "execution_count": 16,
   "id": "c98610e8",
   "metadata": {},
   "outputs": [
    {
     "name": "stdout",
     "output_type": "stream",
     "text": [
      "Submitting your answer. Please wait...\n",
      "Congratulations 🎉! Your answer is correct and has been submitted.\n"
     ]
    }
   ],
   "source": [
    "## Grade and submit your solution\n",
    "from qc_grader.challenges.spring_2022 import grade_ex3b\n",
    "\n",
    "grade_ex3b(vn_entropies)\n"
   ]
  },
  {
   "cell_type": "code",
   "execution_count": 17,
   "id": "9ed1e6a0",
   "metadata": {},
   "outputs": [
    {
     "data": {
      "image/png": "[encoded data removed]",
      "text/plain": [
       "<Figure size 432x288 with 1 Axes>"
      ]
     },
     "metadata": {
      "needs_background": "light"
     },
     "output_type": "display_data"
    }
   ],
   "source": [
    "for W in Ws:\n",
    "    plt.plot(time_steps*delta_t,state_vector_imbalances[W], '--o', label='W={:d}'.format(W))\n",
    "\n",
    "plt.xlabel(r'Time (1/J)')\n",
    "plt.ylabel(r'$\\mathcal{I}$')\n",
    "plt.legend()\n",
    "plt.show()"
   ]
  },
  {
   "cell_type": "code",
   "execution_count": 18,
   "id": "a141777d",
   "metadata": {},
   "outputs": [
    {
     "name": "stdout",
     "output_type": "stream",
     "text": [
      "Submitting your answer. Please wait...\n",
      "Congratulations 🎉! Your answer is correct and has been submitted.\n"
     ]
    }
   ],
   "source": [
    "## Grade and submit your solution\n",
    "from qc_grader.challenges.spring_2022 import grade_ex3c\n",
    "\n",
    "grade_ex3c(state_vector_imbalances)\n"
   ]
  },
  {
   "cell_type": "code",
   "execution_count": null,
   "id": "23fb3d13-9f3c-4996-acbe-eb138f7892de",
   "metadata": {},
   "outputs": [],
   "source": []
  }
 ],
 "metadata": {
  "kernelspec": {
   "display_name": "Qiskit v0.35.0 (ipykernel)",
   "language": "python",
   "name": "python3"
  },
  "language_info": {
   "codemirror_mode": {
    "name": "ipython",
    "version": 3
   },
   "file_extension": ".py",
   "mimetype": "text/x-python",
   "name": "python",
   "nbconvert_exporter": "python",
   "pygments_lexer": "ipython3",
   "version": "3.8.13"
  },
  "widgets": {
   "application/vnd.jupyter.widget-state+json": {
    "state": {
     "0359a7ebaf644f7ab76cb1d663856057": {
      "model_module": "@jupyter-widgets/controls",
      "model_module_version": "1.5.0",
      "model_name": "ButtonModel",
      "state": {
       "button_style": "primary",
       "description": "Clear",
       "layout": "IPY_MODEL_b4d2d1c327c24e118d60d06a33c8671f",
       "style": "IPY_MODEL_dcff6ca8de23457684f273fc42d9dda5"
      }
     },
     "050b57a1e74840c791753808db095ccb": {
      "model_module": "@jupyter-widgets/base",
      "model_module_version": "1.2.0",
      "model_name": "LayoutModel",
      "state": {}
     },
     "084ebcfed10a4e87b9a10cce215636f9": {
      "model_module": "@jupyter-widgets/controls",
      "model_module_version": "1.5.0",
      "model_name": "DescriptionStyleModel",
      "state": {
       "description_width": ""
      }
     },
     "0fe3dad02c7c4938968d8b08c1ae4f33": {
      "model_module": "@jupyter-widgets/controls",
      "model_module_version": "1.5.0",
      "model_name": "DescriptionStyleModel",
      "state": {
       "description_width": ""
      }
     },
     "1592f95c3ea04b2191bc25571baf7b74": {
      "model_module": "@jupyter-widgets/base",
      "model_module_version": "1.2.0",
      "model_name": "LayoutModel",
      "state": {
       "width": "145px"
      }
     },
     "1e8ff7c6d1374011973c9bd05ac049f2": {
      "model_module": "@jupyter-widgets/controls",
      "model_module_version": "1.5.0",
      "model_name": "HTMLModel",
      "state": {
       "layout": "IPY_MODEL_94c0b10b6f7c4db5ac389458552614f3",
       "style": "IPY_MODEL_e46e72263e1e4694b46dfd7bf3e36839",
       "value": " 3/3 [01:30&lt;00:00, 29.96s/it]"
      }
     },
     "208ac54b3363460caa1053420cc601e7": {
      "model_module": "@jupyter-widgets/base",
      "model_module_version": "1.2.0",
      "model_name": "LayoutModel",
      "state": {
       "width": "95px"
      }
     },
     "230f4221852e459da6f643dd1b23e898": {
      "model_module": "@jupyter-widgets/controls",
      "model_module_version": "1.5.0",
      "model_name": "FloatProgressModel",
      "state": {
       "bar_style": "success",
       "layout": "IPY_MODEL_d43d3b3883514632aedc93fce825bba0",
       "max": 3,
       "style": "IPY_MODEL_dec5a37780a148eca56a429a345826ac",
       "value": 3
      }
     },
     "2bd47a0e67c64749909b52b93c7e2a1e": {
      "model_module": "@jupyter-widgets/controls",
      "model_module_version": "1.5.0",
      "model_name": "DescriptionStyleModel",
      "state": {
       "description_width": ""
      }
     },
     "30a503d42dcb4870a2b6db5303c43f87": {
      "model_module": "@jupyter-widgets/controls",
      "model_module_version": "1.5.0",
      "model_name": "HBoxModel",
      "state": {
       "children": [
        "IPY_MODEL_ccb797eba22e47e886e33b1bf8d1805f",
        "IPY_MODEL_bd06d0450b66480c92a6bd66450cdc8d",
        "IPY_MODEL_dabb71b79c1b44b484de8777034ff356",
        "IPY_MODEL_724c40705f5044129e22b8435bfc138c",
        "IPY_MODEL_ff1602f8941f447ab9a64ec90a454ecb"
       ],
       "layout": "IPY_MODEL_e44d1a2d01394a04a65958fb75ca3e26"
      }
     },
     "381333307f364d93af27b7d8843e5845": {
      "model_module": "@jupyter-widgets/base",
      "model_module_version": "1.2.0",
      "model_name": "LayoutModel",
      "state": {
       "grid_template_areas": "\n                                       \". . . . right \"\n                                        ",
       "grid_template_columns": "20% 20% 20% 20% 20%",
       "width": "100%"
      }
     },
     "52bd461a0b1b48f1a906719b049b58f3": {
      "model_module": "@jupyter-widgets/controls",
      "model_module_version": "1.5.0",
      "model_name": "DescriptionStyleModel",
      "state": {
       "description_width": ""
      }
     },
     "5c68452411154fff83714e722e38154d": {
      "model_module": "@jupyter-widgets/controls",
      "model_module_version": "1.5.0",
      "model_name": "HTMLModel",
      "state": {
       "layout": "IPY_MODEL_050b57a1e74840c791753808db095ccb",
       "style": "IPY_MODEL_8cd387f2c26f4d368556178f3430340d",
       "value": "100%"
      }
     },
     "6646aa7fdc5344c4800639f06cd8362c": {
      "model_module": "@jupyter-widgets/base",
      "model_module_version": "1.2.0",
      "model_name": "LayoutModel",
      "state": {}
     },
     "724c40705f5044129e22b8435bfc138c": {
      "model_module": "@jupyter-widgets/controls",
      "model_module_version": "1.5.0",
      "model_name": "HTMLModel",
      "state": {
       "layout": "IPY_MODEL_ee043b9b9c03451a8ed48a08689af4dc",
       "style": "IPY_MODEL_0fe3dad02c7c4938968d8b08c1ae4f33",
       "value": "<h5>Queue</h5>"
      }
     },
     "7ab962e2eddc4c7185b121a93a48755c": {
      "model_module": "@jupyter-widgets/base",
      "model_module_version": "1.2.0",
      "model_name": "LayoutModel",
      "state": {}
     },
     "8592decdce2b4af7b459370dda64f9ad": {
      "model_module": "@jupyter-widgets/base",
      "model_module_version": "1.2.0",
      "model_name": "LayoutModel",
      "state": {
       "margin": "0px 0px 10px 0px"
      }
     },
     "8cd387f2c26f4d368556178f3430340d": {
      "model_module": "@jupyter-widgets/controls",
      "model_module_version": "1.5.0",
      "model_name": "DescriptionStyleModel",
      "state": {
       "description_width": ""
      }
     },
     "94c0b10b6f7c4db5ac389458552614f3": {
      "model_module": "@jupyter-widgets/base",
      "model_module_version": "1.2.0",
      "model_name": "LayoutModel",
      "state": {}
     },
     "9c3340aaba6f45c7a01fd5538df6b097": {
      "model_module": "@jupyter-widgets/controls",
      "model_module_version": "1.5.0",
      "model_name": "GridBoxModel",
      "state": {
       "children": [
        "IPY_MODEL_0359a7ebaf644f7ab76cb1d663856057"
       ],
       "layout": "IPY_MODEL_381333307f364d93af27b7d8843e5845"
      }
     },
     "a3553c3070a44a469abff306185ac2bd": {
      "model_module": "@jupyter-widgets/controls",
      "model_module_version": "1.5.0",
      "model_name": "HTMLModel",
      "state": {
       "layout": "IPY_MODEL_8592decdce2b4af7b459370dda64f9ad",
       "style": "IPY_MODEL_dff2673a2e7f4547b41fa175b8717066",
       "value": "<p style='font-family: IBM Plex Sans, Arial, Helvetica, sans-serif; font-size: 20px; font-weight: medium;'>Circuit Properties</p>"
      }
     },
     "aa499b7333a640418fa1c56d68fba190": {
      "model_module": "@jupyter-widgets/base",
      "model_module_version": "1.2.0",
      "model_name": "LayoutModel",
      "state": {
       "width": "190px"
      }
     },
     "ab00b2146ab44b9c9007c0a8f97079cc": {
      "model_module": "@jupyter-widgets/controls",
      "model_module_version": "1.5.0",
      "model_name": "HBoxModel",
      "state": {
       "children": [
        "IPY_MODEL_5c68452411154fff83714e722e38154d",
        "IPY_MODEL_230f4221852e459da6f643dd1b23e898",
        "IPY_MODEL_1e8ff7c6d1374011973c9bd05ac049f2"
       ],
       "layout": "IPY_MODEL_6646aa7fdc5344c4800639f06cd8362c"
      }
     },
     "b4d2d1c327c24e118d60d06a33c8671f": {
      "model_module": "@jupyter-widgets/base",
      "model_module_version": "1.2.0",
      "model_name": "LayoutModel",
      "state": {
       "grid_area": "right",
       "padding": "0px 0px 0px 0px",
       "width": "70px"
      }
     },
     "bd06d0450b66480c92a6bd66450cdc8d": {
      "model_module": "@jupyter-widgets/controls",
      "model_module_version": "1.5.0",
      "model_name": "HTMLModel",
      "state": {
       "layout": "IPY_MODEL_1592f95c3ea04b2191bc25571baf7b74",
       "style": "IPY_MODEL_f9d87793390b4021bacba053f11884ff",
       "value": "<h5>Backend</h5>"
      }
     },
     "ccb797eba22e47e886e33b1bf8d1805f": {
      "model_module": "@jupyter-widgets/controls",
      "model_module_version": "1.5.0",
      "model_name": "HTMLModel",
      "state": {
       "layout": "IPY_MODEL_aa499b7333a640418fa1c56d68fba190",
       "style": "IPY_MODEL_084ebcfed10a4e87b9a10cce215636f9",
       "value": "<h5>Job ID</h5>"
      }
     },
     "d43d3b3883514632aedc93fce825bba0": {
      "model_module": "@jupyter-widgets/base",
      "model_module_version": "1.2.0",
      "model_name": "LayoutModel",
      "state": {}
     },
     "dabb71b79c1b44b484de8777034ff356": {
      "model_module": "@jupyter-widgets/controls",
      "model_module_version": "1.5.0",
      "model_name": "HTMLModel",
      "state": {
       "layout": "IPY_MODEL_208ac54b3363460caa1053420cc601e7",
       "style": "IPY_MODEL_2bd47a0e67c64749909b52b93c7e2a1e",
       "value": "<h5>Status</h5>"
      }
     },
     "dcff6ca8de23457684f273fc42d9dda5": {
      "model_module": "@jupyter-widgets/controls",
      "model_module_version": "1.5.0",
      "model_name": "ButtonStyleModel",
      "state": {}
     },
     "dec5a37780a148eca56a429a345826ac": {
      "model_module": "@jupyter-widgets/controls",
      "model_module_version": "1.5.0",
      "model_name": "ProgressStyleModel",
      "state": {
       "description_width": ""
      }
     },
     "dff2673a2e7f4547b41fa175b8717066": {
      "model_module": "@jupyter-widgets/controls",
      "model_module_version": "1.5.0",
      "model_name": "DescriptionStyleModel",
      "state": {
       "description_width": ""
      }
     },
     "e44d1a2d01394a04a65958fb75ca3e26": {
      "model_module": "@jupyter-widgets/base",
      "model_module_version": "1.2.0",
      "model_name": "LayoutModel",
      "state": {
       "margin": "0px 0px 0px 37px",
       "width": "600px"
      }
     },
     "e46e72263e1e4694b46dfd7bf3e36839": {
      "model_module": "@jupyter-widgets/controls",
      "model_module_version": "1.5.0",
      "model_name": "DescriptionStyleModel",
      "state": {
       "description_width": ""
      }
     },
     "ee043b9b9c03451a8ed48a08689af4dc": {
      "model_module": "@jupyter-widgets/base",
      "model_module_version": "1.2.0",
      "model_name": "LayoutModel",
      "state": {
       "width": "70px"
      }
     },
     "f9d87793390b4021bacba053f11884ff": {
      "model_module": "@jupyter-widgets/controls",
      "model_module_version": "1.5.0",
      "model_name": "DescriptionStyleModel",
      "state": {
       "description_width": ""
      }
     },
     "ff1602f8941f447ab9a64ec90a454ecb": {
      "model_module": "@jupyter-widgets/controls",
      "model_module_version": "1.5.0",
      "model_name": "HTMLModel",
      "state": {
       "layout": "IPY_MODEL_7ab962e2eddc4c7185b121a93a48755c",
       "style": "IPY_MODEL_52bd461a0b1b48f1a906719b049b58f3",
       "value": "<h5>Message</h5>"
      }
     }
    },
    "version_major": 2,
    "version_minor": 0
   }
  }
 },
 "nbformat": 4,
 "nbformat_minor": 5
}
